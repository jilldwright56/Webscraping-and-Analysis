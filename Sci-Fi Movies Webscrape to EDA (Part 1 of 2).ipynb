{
 "cells": [
  {
   "cell_type": "markdown",
   "metadata": {},
   "source": [
    "# Import and Scrape"
   ]
  },
  {
   "cell_type": "code",
   "execution_count": 1,
   "metadata": {},
   "outputs": [],
   "source": [
    "from requests import get"
   ]
  },
  {
   "cell_type": "markdown",
   "metadata": {},
   "source": [
    "First I will set the initial page to scrape and print out the first 500 characters of the text of response, which here is just pure HTML so far."
   ]
  },
  {
   "cell_type": "code",
   "execution_count": 2,
   "metadata": {},
   "outputs": [
    {
     "name": "stdout",
     "output_type": "stream",
     "text": [
      "\n",
      "\n",
      "<!DOCTYPE html>\n",
      "<html\n",
      "    xmlns:og=\"http://ogp.me/ns#\"\n",
      "    xmlns:fb=\"http://www.facebook.com/2008/fbml\">\n",
      "    <head>\n",
      "         \n",
      "        <meta charset=\"utf-8\">\n",
      "        <meta http-equiv=\"X-UA-Compatible\" content=\"IE=edge\">\n",
      "\n",
      "    <meta name=\"apple-itunes-app\" content=\"app-id=342792525, app-argument=imdb:///?src=mdot\">\n",
      "\n",
      "\n",
      "\n",
      "        <script type=\"text/javascript\">var IMDbTimer={starttime: new Date().getTime(),pt:'java'};</script>\n",
      "\n",
      "<script>\n",
      "    if (typeof uet == 'function') {\n",
      "      uet(\"bb\", \"LoadTitle\",\n"
     ]
    }
   ],
   "source": [
    "sci_fi_page1 = \"https://www.imdb.com/search/title?genres=sci-fi&explore=title_type,genres&ref_=adv_prv\"\n",
    "\n",
    "response = get(sci_fi_page1)\n",
    "print(response.text[:500])"
   ]
  },
  {
   "cell_type": "code",
   "execution_count": 3,
   "metadata": {},
   "outputs": [],
   "source": [
    "from bs4 import BeautifulSoup"
   ]
  },
  {
   "cell_type": "markdown",
   "metadata": {},
   "source": [
    "Next, I pass in the response text with the argument stating that I want to use Python's built-in HTML parser to create a, well, beautiful soup. I checked the type here."
   ]
  },
  {
   "cell_type": "code",
   "execution_count": 4,
   "metadata": {},
   "outputs": [
    {
     "data": {
      "text/plain": [
       "bs4.BeautifulSoup"
      ]
     },
     "execution_count": 4,
     "metadata": {},
     "output_type": "execute_result"
    }
   ],
   "source": [
    "html_soup = BeautifulSoup(response.text, 'html.parser')\n",
    "type(html_soup)"
   ]
  },
  {
   "cell_type": "markdown",
   "metadata": {},
   "source": [
    "Now I need to find the containers that contain the movie information on the page in order to drill down further in the tags to get that specific `<a href=\"...\"></a>`\n",
    "tag containing the movie title."
   ]
  },
  {
   "cell_type": "code",
   "execution_count": 5,
   "metadata": {},
   "outputs": [
    {
     "name": "stdout",
     "output_type": "stream",
     "text": [
      "<class 'bs4.element.ResultSet'>\n",
      "50\n"
     ]
    }
   ],
   "source": [
    "sci_fi_containers = html_soup.find_all('div', class_= 'lister-item mode-advanced')\n",
    "print(type(sci_fi_containers)) #to double check that I got a ResultSet\n",
    "print(len(sci_fi_containers)) #to double check I got 50 (elements/page)"
   ]
  },
  {
   "cell_type": "markdown",
   "metadata": {},
   "source": [
    "First I will make sure I can flawlessly capture the data from the first movie in the list before scaling. The first movie is item zero in the ResultSet `sci_fi_containers`."
   ]
  },
  {
   "cell_type": "code",
   "execution_count": 8,
   "metadata": {},
   "outputs": [
    {
     "data": {
      "text/plain": [
       "<div class=\"lister-item mode-advanced\">\n",
       "<div class=\"lister-top-right\">\n",
       "<div class=\"ribbonize\" data-caller=\"filmosearch\" data-tconst=\"tt2737304\"></div>\n",
       "</div>\n",
       "<div class=\"lister-item-image float-left\">\n",
       "<a href=\"/title/tt2737304/?ref_=adv_li_i\"> <img alt=\"Bird Box\" class=\"loadlate\" data-tconst=\"tt2737304\" height=\"98\" loadlate=\"https://m.media-amazon.com/images/M/MV5BMjAzMTI1MjMyN15BMl5BanBnXkFtZTgwNzU5MTE2NjM@._V1_UX67_CR0,0,67,98_AL_.jpg\" src=\"https://m.media-amazon.com/images/G/01/imdb/images/nopicture/large/film-184890147._CB470041630_.png\" width=\"67\"/>\n",
       "</a> </div>\n",
       "<div class=\"lister-item-content\">\n",
       "<h3 class=\"lister-item-header\">\n",
       "<span class=\"lister-item-index unbold text-primary\">1.</span>\n",
       "<a href=\"/title/tt2737304/?ref_=adv_li_tt\">Bird Box</a>\n",
       "<span class=\"lister-item-year text-muted unbold\">(2018)</span>\n",
       "</h3>\n",
       "<p class=\"text-muted \">\n",
       "<span class=\"certificate\">R</span>\n",
       "<span class=\"ghost\">|</span>\n",
       "<span class=\"runtime\">124 min</span>\n",
       "<span class=\"ghost\">|</span>\n",
       "<span class=\"genre\">\n",
       "Drama, Horror, Sci-Fi            </span>\n",
       "</p>\n",
       "<div class=\"ratings-bar\">\n",
       "<div class=\"inline-block ratings-imdb-rating\" data-value=\"6.7\" name=\"ir\">\n",
       "<span class=\"global-sprite rating-star imdb-rating\"></span>\n",
       "<strong>6.7</strong>\n",
       "</div>\n",
       "<div class=\"inline-block ratings-user-rating\">\n",
       "<span class=\"userRatingValue\" data-tconst=\"tt2737304\" id=\"urv_tt2737304\">\n",
       "<span class=\"global-sprite rating-star no-rating\"></span>\n",
       "<span class=\"rate\" data-no-rating=\"Rate this\" data-value=\"0\" name=\"ur\">Rate this</span>\n",
       "</span>\n",
       "<div class=\"starBarWidget\" id=\"sb_tt2737304\">\n",
       "<div class=\"rating rating-list\" data-auth=\"\" data-ga-identifier=\"\" data-starbar-class=\"rating-list\" data-user=\"\" id=\"tt2737304|imdb|6.7|6.7|||advsearch|title\" itemprop=\"aggregateRating\" itemscope=\"\" itemtype=\"http://schema.org/AggregateRating\" title=\"Users rated this 6.7/10 (151,586 votes) - click stars to rate\">\n",
       "<meta content=\"6.7\" itemprop=\"ratingValue\"/>\n",
       "<meta content=\"10\" itemprop=\"bestRating\"/>\n",
       "<meta content=\"151586\" itemprop=\"ratingCount\"/>\n",
       "<span class=\"rating-bg\"> </span>\n",
       "<span class=\"rating-imdb \" style=\"width: 93.8px\"> </span>\n",
       "<span class=\"rating-stars\">\n",
       "<a href=\"/register/login?why=vote&amp;ref_=tt_ov_rt\" rel=\"nofollow\" title=\"Register or login to rate this title\"><span>1</span></a>\n",
       "<a href=\"/register/login?why=vote&amp;ref_=tt_ov_rt\" rel=\"nofollow\" title=\"Register or login to rate this title\"><span>2</span></a>\n",
       "<a href=\"/register/login?why=vote&amp;ref_=tt_ov_rt\" rel=\"nofollow\" title=\"Register or login to rate this title\"><span>3</span></a>\n",
       "<a href=\"/register/login?why=vote&amp;ref_=tt_ov_rt\" rel=\"nofollow\" title=\"Register or login to rate this title\"><span>4</span></a>\n",
       "<a href=\"/register/login?why=vote&amp;ref_=tt_ov_rt\" rel=\"nofollow\" title=\"Register or login to rate this title\"><span>5</span></a>\n",
       "<a href=\"/register/login?why=vote&amp;ref_=tt_ov_rt\" rel=\"nofollow\" title=\"Register or login to rate this title\"><span>6</span></a>\n",
       "<a href=\"/register/login?why=vote&amp;ref_=tt_ov_rt\" rel=\"nofollow\" title=\"Register or login to rate this title\"><span>7</span></a>\n",
       "<a href=\"/register/login?why=vote&amp;ref_=tt_ov_rt\" rel=\"nofollow\" title=\"Register or login to rate this title\"><span>8</span></a>\n",
       "<a href=\"/register/login?why=vote&amp;ref_=tt_ov_rt\" rel=\"nofollow\" title=\"Register or login to rate this title\"><span>9</span></a>\n",
       "<a href=\"/register/login?why=vote&amp;ref_=tt_ov_rt\" rel=\"nofollow\" title=\"Register or login to rate this title\"><span>10</span></a>\n",
       "</span>\n",
       "<span class=\"rating-rating \"><span class=\"value\">6.7</span><span class=\"grey\">/</span><span class=\"grey\">10</span></span>\n",
       "<span class=\"rating-cancel \"><a href=\"/title/tt2737304/vote?v=X;k=\" rel=\"nofollow\" title=\"Delete\"><span>X</span></a></span>\n",
       " </div>\n",
       "</div>\n",
       "</div>\n",
       "<div class=\"inline-block ratings-metascore\">\n",
       "<span class=\"metascore mixed\">51        </span>\n",
       "        Metascore\n",
       "            </div>\n",
       "</div>\n",
       "<p class=\"text-muted\">\n",
       "    Five years after an ominous unseen presence drives most of society to suicide, a mother and her two children make a desperate bid to reach safety.</p>\n",
       "<p class=\"\">\n",
       "    Director:\n",
       "<a href=\"/name/nm0081540/?ref_=adv_li_dr_0\">Susanne Bier</a>\n",
       "<span class=\"ghost\">|</span> \n",
       "    Stars:\n",
       "<a href=\"/name/nm0000113/?ref_=adv_li_st_0\">Sandra Bullock</a>, \n",
       "<a href=\"/name/nm5218990/?ref_=adv_li_st_1\">Trevante Rhodes</a>, \n",
       "<a href=\"/name/nm0000518/?ref_=adv_li_st_2\">John Malkovich</a>, \n",
       "<a href=\"/name/nm0005299/?ref_=adv_li_st_3\">Sarah Paulson</a>\n",
       "</p>\n",
       "<p class=\"sort-num_votes-visible\">\n",
       "<span class=\"text-muted\">Votes:</span>\n",
       "<span data-value=\"151586\" name=\"nv\">151,586</span>\n",
       "</p>\n",
       "</div>\n",
       "</div>"
      ]
     },
     "execution_count": 8,
     "metadata": {},
     "output_type": "execute_result"
    }
   ],
   "source": [
    "movie_one = sci_fi_containers[0]\n",
    "movie_one"
   ]
  },
  {
   "cell_type": "markdown",
   "metadata": {},
   "source": [
    "`sci_fi_containers` is an overarching `<div>` tag, of which there are 50. Underneath that, is a `<div>` tag minus the movie cover image and such on the floating left element. The title of the movie is an `<a>` tag embedded under an `<h3>` tag, so we can stack bs4 methods `.h3` and `.a`, and finally `.text` to get at the string `'Bird Box'`, the number one for Sci-Fi as of 1/17/19."
   ]
  },
  {
   "cell_type": "code",
   "execution_count": 9,
   "metadata": {},
   "outputs": [
    {
     "data": {
      "text/plain": [
       "'Bird Box'"
      ]
     },
     "execution_count": 9,
     "metadata": {},
     "output_type": "execute_result"
    }
   ],
   "source": [
    "movie_one.h3.a.text"
   ]
  },
  {
   "cell_type": "markdown",
   "metadata": {},
   "source": [
    "Next I will grab the year of the first movie, rating, runtime, genre, IMDB rating, metascore, and number of votes."
   ]
  },
  {
   "cell_type": "code",
   "execution_count": 10,
   "metadata": {},
   "outputs": [],
   "source": [
    "movie_one_year = movie_one.h3.find('span', class_= 'lister-item-year text-muted unbold')"
   ]
  },
  {
   "cell_type": "code",
   "execution_count": 11,
   "metadata": {},
   "outputs": [
    {
     "data": {
      "text/plain": [
       "'(2018)'"
      ]
     },
     "execution_count": 11,
     "metadata": {},
     "output_type": "execute_result"
    }
   ],
   "source": [
    "movie_one_year.text"
   ]
  },
  {
   "cell_type": "code",
   "execution_count": 12,
   "metadata": {},
   "outputs": [],
   "source": [
    "movie_one_rating = movie_one.p.find('span', class_= 'certificate')"
   ]
  },
  {
   "cell_type": "code",
   "execution_count": 13,
   "metadata": {},
   "outputs": [
    {
     "data": {
      "text/plain": [
       "'R'"
      ]
     },
     "execution_count": 13,
     "metadata": {},
     "output_type": "execute_result"
    }
   ],
   "source": [
    "movie_one_rating.text"
   ]
  },
  {
   "cell_type": "code",
   "execution_count": 14,
   "metadata": {},
   "outputs": [
    {
     "data": {
      "text/plain": [
       "'124 min'"
      ]
     },
     "execution_count": 14,
     "metadata": {},
     "output_type": "execute_result"
    }
   ],
   "source": [
    "movie_one_runtime = movie_one.p.find('span', class_ = 'runtime')\n",
    "movie_one_runtime.text"
   ]
  },
  {
   "cell_type": "code",
   "execution_count": 15,
   "metadata": {},
   "outputs": [
    {
     "data": {
      "text/plain": [
       "'\\nDrama, Horror, Sci-Fi            '"
      ]
     },
     "execution_count": 15,
     "metadata": {},
     "output_type": "execute_result"
    }
   ],
   "source": [
    "movie_one_genre = movie_one.p.find('span', class_ = 'genre')\n",
    "movie_one_genre.text"
   ]
  },
  {
   "cell_type": "code",
   "execution_count": 16,
   "metadata": {},
   "outputs": [
    {
     "data": {
      "text/plain": [
       "6.7"
      ]
     },
     "execution_count": 16,
     "metadata": {},
     "output_type": "execute_result"
    }
   ],
   "source": [
    "movie_one_imdb_rating = float(movie_one.strong.text)\n",
    "movie_one_imdb_rating"
   ]
  },
  {
   "cell_type": "code",
   "execution_count": 17,
   "metadata": {},
   "outputs": [
    {
     "data": {
      "text/plain": [
       "51"
      ]
     },
     "execution_count": 17,
     "metadata": {},
     "output_type": "execute_result"
    }
   ],
   "source": [
    "movie_one_metascore = movie_one.find('span', class_ = 'metascore mixed')\n",
    "movie_one_metascore = int(movie_one_metascore.text)\n",
    "movie_one_metascore"
   ]
  },
  {
   "cell_type": "code",
   "execution_count": 18,
   "metadata": {},
   "outputs": [
    {
     "data": {
      "text/plain": [
       "151586"
      ]
     },
     "execution_count": 18,
     "metadata": {},
     "output_type": "execute_result"
    }
   ],
   "source": [
    "#name is a different kind of attribute from class, it requires a dictionary\n",
    "movie_one_votes = movie_one.find('span', attrs = {'name':'nv'})\n",
    "movie_one_votes = movie_one_votes['data-value'] #this is without a comma so saves on cleaning later on\n",
    "movie_one_votes = int(movie_one_votes)\n",
    "movie_one_votes"
   ]
  },
  {
   "cell_type": "markdown",
   "metadata": {},
   "source": [
    "Next, I'll remove movies that don't have a metascore to save time later dealing with missing values. The first movie without a metascore is number 6 right now so I will grab that one to see the NoneType and use a conditional around that data type."
   ]
  },
  {
   "cell_type": "code",
   "execution_count": 19,
   "metadata": {},
   "outputs": [
    {
     "data": {
      "text/plain": [
       "NoneType"
      ]
     },
     "execution_count": 19,
     "metadata": {},
     "output_type": "execute_result"
    }
   ],
   "source": [
    "first_missing_metascore = sci_fi_containers[6].find('div', class_ = 'ratings-metascore')\n",
    "type(first_missing_metascore)"
   ]
  },
  {
   "cell_type": "markdown",
   "metadata": {},
   "source": [
    "Next, I will prepare the loop for the first 50 movies."
   ]
  },
  {
   "cell_type": "code",
   "execution_count": 20,
   "metadata": {},
   "outputs": [],
   "source": [
    "#initialize empty lists to store the variables scraped\n",
    "titles = []\n",
    "years = []\n",
    "ratings = []\n",
    "genres = []\n",
    "runtimes = []\n",
    "imdb_ratings = []\n",
    "metascores = []\n",
    "votes = []\n",
    "\n",
    "#extract data itemwise\n",
    "for container in sci_fi_containers:\n",
    "    \n",
    "    #conditional for all with metascore\n",
    "    if container.find('div', class_ = 'ratings-metascore') is not None:\n",
    "        \n",
    "        #title\n",
    "        title = container.h3.a.text\n",
    "        titles.append(title)\n",
    "        \n",
    "        #year released\n",
    "        year = container.h3.find('span', class_= 'lister-item-year text-muted unbold').text\n",
    "        years.append(year)\n",
    "        \n",
    "        #rating\n",
    "        rating = container.p.find('span', class_= 'certificate').text\n",
    "        ratings.append(rating)\n",
    "        \n",
    "        #genre\n",
    "        genre = container.p.find('span', class_ = 'genre').text\n",
    "        genres.append(genre)\n",
    "        \n",
    "        #runtime\n",
    "        time = container.p.find('span', class_ = 'runtime').text\n",
    "        runtimes.append(time)\n",
    "        \n",
    "        #IMDB ratings\n",
    "        imdb = float(container.strong.text)\n",
    "        imdb_ratings.append(imdb)\n",
    "        \n",
    "        #Metascore\n",
    "        m_score = container.find('span', class_ = 'metascore').text\n",
    "        metascores.append(int(m_score))\n",
    "\n",
    "        #Number of votes\n",
    "        vote = container.find('span', attrs = {'name':'nv'})['data-value']\n",
    "        votes.append(int(vote))        "
   ]
  },
  {
   "cell_type": "markdown",
   "metadata": {},
   "source": [
    "Don't forget to check your work!"
   ]
  },
  {
   "cell_type": "code",
   "execution_count": 21,
   "metadata": {},
   "outputs": [
    {
     "name": "stdout",
     "output_type": "stream",
     "text": [
      "<class 'pandas.core.frame.DataFrame'>\n",
      "RangeIndex: 21 entries, 0 to 20\n",
      "Data columns (total 8 columns):\n",
      "movie        21 non-null object\n",
      "year         21 non-null object\n",
      "rating       21 non-null object\n",
      "genre        21 non-null object\n",
      "runtime      21 non-null object\n",
      "imdb         21 non-null float64\n",
      "metascore    21 non-null int64\n",
      "votes        21 non-null int64\n",
      "dtypes: float64(1), int64(2), object(5)\n",
      "memory usage: 964.0+ bytes\n",
      "None\n"
     ]
    },
    {
     "data": {
      "text/html": [
       "<div>\n",
       "<style scoped>\n",
       "    .dataframe tbody tr th:only-of-type {\n",
       "        vertical-align: middle;\n",
       "    }\n",
       "\n",
       "    .dataframe tbody tr th {\n",
       "        vertical-align: top;\n",
       "    }\n",
       "\n",
       "    .dataframe thead th {\n",
       "        text-align: right;\n",
       "    }\n",
       "</style>\n",
       "<table border=\"1\" class=\"dataframe\">\n",
       "  <thead>\n",
       "    <tr style=\"text-align: right;\">\n",
       "      <th></th>\n",
       "      <th>movie</th>\n",
       "      <th>year</th>\n",
       "      <th>rating</th>\n",
       "      <th>genre</th>\n",
       "      <th>runtime</th>\n",
       "      <th>imdb</th>\n",
       "      <th>metascore</th>\n",
       "      <th>votes</th>\n",
       "    </tr>\n",
       "  </thead>\n",
       "  <tbody>\n",
       "    <tr>\n",
       "      <th>0</th>\n",
       "      <td>Bird Box</td>\n",
       "      <td>(2018)</td>\n",
       "      <td>R</td>\n",
       "      <td>\\nDrama, Horror, Sci-Fi</td>\n",
       "      <td>124 min</td>\n",
       "      <td>6.7</td>\n",
       "      <td>51</td>\n",
       "      <td>151586</td>\n",
       "    </tr>\n",
       "    <tr>\n",
       "      <th>1</th>\n",
       "      <td>Aquaman</td>\n",
       "      <td>(2018)</td>\n",
       "      <td>PG-13</td>\n",
       "      <td>\\nAction, Adventure, Fantasy</td>\n",
       "      <td>143 min</td>\n",
       "      <td>7.5</td>\n",
       "      <td>55</td>\n",
       "      <td>131703</td>\n",
       "    </tr>\n",
       "    <tr>\n",
       "      <th>2</th>\n",
       "      <td>Glass</td>\n",
       "      <td>(2019)</td>\n",
       "      <td>PG-13</td>\n",
       "      <td>\\nDrama, Mystery, Sci-Fi</td>\n",
       "      <td>129 min</td>\n",
       "      <td>7.4</td>\n",
       "      <td>42</td>\n",
       "      <td>7019</td>\n",
       "    </tr>\n",
       "    <tr>\n",
       "      <th>3</th>\n",
       "      <td>Spider-Man: Into the Spider-Verse</td>\n",
       "      <td>(2018)</td>\n",
       "      <td>PG</td>\n",
       "      <td>\\nAnimation, Action, Adventure</td>\n",
       "      <td>117 min</td>\n",
       "      <td>8.7</td>\n",
       "      <td>87</td>\n",
       "      <td>79794</td>\n",
       "    </tr>\n",
       "    <tr>\n",
       "      <th>4</th>\n",
       "      <td>Bumblebee</td>\n",
       "      <td>(2018)</td>\n",
       "      <td>PG-13</td>\n",
       "      <td>\\nAction, Adventure, Sci-Fi</td>\n",
       "      <td>114 min</td>\n",
       "      <td>7.3</td>\n",
       "      <td>66</td>\n",
       "      <td>34919</td>\n",
       "    </tr>\n",
       "  </tbody>\n",
       "</table>\n",
       "</div>"
      ],
      "text/plain": [
       "                               movie    year rating  \\\n",
       "0                           Bird Box  (2018)      R   \n",
       "1                            Aquaman  (2018)  PG-13   \n",
       "2                              Glass  (2019)  PG-13   \n",
       "3  Spider-Man: Into the Spider-Verse  (2018)     PG   \n",
       "4                          Bumblebee  (2018)  PG-13   \n",
       "\n",
       "                                        genre  runtime  imdb  metascore  \\\n",
       "0         \\nDrama, Horror, Sci-Fi              124 min   6.7         51   \n",
       "1    \\nAction, Adventure, Fantasy              143 min   7.5         55   \n",
       "2        \\nDrama, Mystery, Sci-Fi              129 min   7.4         42   \n",
       "3  \\nAnimation, Action, Adventure              117 min   8.7         87   \n",
       "4     \\nAction, Adventure, Sci-Fi              114 min   7.3         66   \n",
       "\n",
       "    votes  \n",
       "0  151586  \n",
       "1  131703  \n",
       "2    7019  \n",
       "3   79794  \n",
       "4   34919  "
      ]
     },
     "execution_count": 21,
     "metadata": {},
     "output_type": "execute_result"
    }
   ],
   "source": [
    "import pandas as pd\n",
    "\n",
    "test_df = pd.DataFrame({'movie': titles,\n",
    "                       'year': years,\n",
    "                       'rating': ratings,\n",
    "                       'genre': genres,\n",
    "                       'runtime': runtimes,\n",
    "                       'imdb': imdb_ratings,\n",
    "                       'metascore': metascores,\n",
    "                       'votes': votes})\n",
    "print(test_df.info())\n",
    "test_df.head()"
   ]
  },
  {
   "cell_type": "markdown",
   "metadata": {},
   "source": [
    "Awesome, it worked. But there are 142,000+ movies in the Sci-Fi genre. I want more! Let's look at what parameters need to be passed to send requests for the next page(s) and not forget to control the requests so we don't bombard the server."
   ]
  },
  {
   "cell_type": "code",
   "execution_count": 22,
   "metadata": {},
   "outputs": [],
   "source": [
    "from time import sleep\n",
    "from random import randint"
   ]
  },
  {
   "cell_type": "code",
   "execution_count": 29,
   "metadata": {},
   "outputs": [
    {
     "name": "stdout",
     "output_type": "stream",
     "text": [
      "Finished iteration: 1\n",
      "Finished iteration: 2\n"
     ]
    }
   ],
   "source": [
    "from warnings import warn\n",
    "from time import time\n",
    "from IPython.core.display import clear_output\n",
    "import numpy as np\n",
    "\n",
    "#for this example, I only have it running as \n",
    "pages = np.arange(1, 101, 50) #can only go to 10000 items because after that the URI ha no discernable distinction\n",
    "pages\n",
    "\n",
    "#initialize empty lists to store the variables scraped\n",
    "titles = []\n",
    "years = []\n",
    "ratings = []\n",
    "genres = []\n",
    "runtimes = []\n",
    "imdb_ratings = []\n",
    "metascores = []\n",
    "votes = []\n",
    "\n",
    "iterations = 0\n",
    "\n",
    "for page in pages:\n",
    "    \n",
    "    #get request\n",
    "    response = get(\"https://www.imdb.com/search/title?genres=sci-fi&\" \n",
    "                   + \"start=\" \n",
    "                   + str(page) \n",
    "                   + \"&explore=title_type,genres&ref_=adv_prv\")\n",
    "    \n",
    "    sleep(randint(8,15))\n",
    "     \n",
    "    #throw warning for status codes that are not 200\n",
    "    if response.status_code != 200:\n",
    "        warn('Request: {}; Status code: {}'.format(requests, response.status_code))\n",
    "\n",
    "    #parse the content of current iteration of request\n",
    "    page_html = BeautifulSoup(response.text, 'html.parser')\n",
    "        \n",
    "    movie_containers = page_html.find_all('div', class_ = 'lister-item mode-advanced')\n",
    "    \n",
    "    #extract the 50 movies for that page\n",
    "    for container in movie_containers:\n",
    "\n",
    "        #conditional for all with metascore\n",
    "        if container.find('div', class_ = 'ratings-metascore') is not None:\n",
    "\n",
    "            #title\n",
    "            title = container.h3.a.text\n",
    "            titles.append(title)\n",
    "\n",
    "            #year released\n",
    "            year = container.h3.find('span', class_= 'lister-item-year text-muted unbold').text\n",
    "            years.append(year)\n",
    "\n",
    "            #rating\n",
    "            rating = container.p.find('span', class_= 'certificate').text\n",
    "            ratings.append(rating)\n",
    "\n",
    "            #genre\n",
    "            genre = container.p.find('span', class_ = 'genre').text\n",
    "            genres.append(genre)\n",
    "\n",
    "            #runtime\n",
    "            time = container.p.find('span', class_ = 'runtime').text\n",
    "            runtimes.append(time)\n",
    "\n",
    "            #IMDB ratings\n",
    "            imdb = float(container.strong.text)\n",
    "            imdb_ratings.append(imdb)\n",
    "\n",
    "            #Metascore\n",
    "            m_score = container.find('span', class_ = 'metascore').text\n",
    "            metascores.append(int(m_score))\n",
    "\n",
    "            #Number of votes\n",
    "            vote = container.find('span', attrs = {'name':'nv'})['data-value']\n",
    "            votes.append(int(vote))\n",
    "    iterations += 1\n",
    "    print(\"Finished iteration: \" + str(iterations))"
   ]
  },
  {
   "cell_type": "code",
   "execution_count": 30,
   "metadata": {},
   "outputs": [
    {
     "data": {
      "text/plain": [
       "48.751607500000006"
      ]
     },
     "execution_count": 30,
     "metadata": {},
     "output_type": "execute_result"
    }
   ],
   "source": [
    "#timer didn't work, so an unelegant calculation of approx. runtime for the full dataset of 9,999 items\n",
    "num_full_iterations = 9951/50\n",
    "\n",
    "avg_iteration = np.mean([16.34, 11.52, 14.71, 16.22])\n",
    "avg_iteration\n",
    "\n",
    "num_minutes = (avg_iteration/60)*num_full_iterations\n",
    "num_minutes #approximate"
   ]
  },
  {
   "cell_type": "code",
   "execution_count": 31,
   "metadata": {},
   "outputs": [
    {
     "name": "stdout",
     "output_type": "stream",
     "text": [
      "<class 'pandas.core.frame.DataFrame'>\n",
      "RangeIndex: 45 entries, 0 to 44\n",
      "Data columns (total 8 columns):\n",
      "movie          45 non-null object\n",
      "year           45 non-null object\n",
      "rating         45 non-null object\n",
      "genre          45 non-null object\n",
      "runtime_min    45 non-null object\n",
      "imdb           45 non-null float64\n",
      "metascore      45 non-null int64\n",
      "votes          45 non-null int64\n",
      "dtypes: float64(1), int64(2), object(5)\n",
      "memory usage: 2.0+ KB\n",
      "None\n"
     ]
    },
    {
     "data": {
      "text/html": [
       "<div>\n",
       "<style scoped>\n",
       "    .dataframe tbody tr th:only-of-type {\n",
       "        vertical-align: middle;\n",
       "    }\n",
       "\n",
       "    .dataframe tbody tr th {\n",
       "        vertical-align: top;\n",
       "    }\n",
       "\n",
       "    .dataframe thead th {\n",
       "        text-align: right;\n",
       "    }\n",
       "</style>\n",
       "<table border=\"1\" class=\"dataframe\">\n",
       "  <thead>\n",
       "    <tr style=\"text-align: right;\">\n",
       "      <th></th>\n",
       "      <th>movie</th>\n",
       "      <th>year</th>\n",
       "      <th>rating</th>\n",
       "      <th>genre</th>\n",
       "      <th>runtime_min</th>\n",
       "      <th>imdb</th>\n",
       "      <th>metascore</th>\n",
       "      <th>votes</th>\n",
       "    </tr>\n",
       "  </thead>\n",
       "  <tbody>\n",
       "    <tr>\n",
       "      <th>0</th>\n",
       "      <td>Bird Box</td>\n",
       "      <td>(2018)</td>\n",
       "      <td>R</td>\n",
       "      <td>\\nDrama, Horror, Sci-Fi</td>\n",
       "      <td>124 min</td>\n",
       "      <td>6.7</td>\n",
       "      <td>51</td>\n",
       "      <td>151586</td>\n",
       "    </tr>\n",
       "    <tr>\n",
       "      <th>1</th>\n",
       "      <td>Aquaman</td>\n",
       "      <td>(2018)</td>\n",
       "      <td>PG-13</td>\n",
       "      <td>\\nAction, Adventure, Fantasy</td>\n",
       "      <td>143 min</td>\n",
       "      <td>7.5</td>\n",
       "      <td>55</td>\n",
       "      <td>131703</td>\n",
       "    </tr>\n",
       "    <tr>\n",
       "      <th>2</th>\n",
       "      <td>Glass</td>\n",
       "      <td>(2019)</td>\n",
       "      <td>PG-13</td>\n",
       "      <td>\\nDrama, Mystery, Sci-Fi</td>\n",
       "      <td>129 min</td>\n",
       "      <td>7.4</td>\n",
       "      <td>42</td>\n",
       "      <td>7019</td>\n",
       "    </tr>\n",
       "    <tr>\n",
       "      <th>3</th>\n",
       "      <td>Spider-Man: Into the Spider-Verse</td>\n",
       "      <td>(2018)</td>\n",
       "      <td>PG</td>\n",
       "      <td>\\nAnimation, Action, Adventure</td>\n",
       "      <td>117 min</td>\n",
       "      <td>8.7</td>\n",
       "      <td>87</td>\n",
       "      <td>79794</td>\n",
       "    </tr>\n",
       "    <tr>\n",
       "      <th>4</th>\n",
       "      <td>Bumblebee</td>\n",
       "      <td>(2018)</td>\n",
       "      <td>PG-13</td>\n",
       "      <td>\\nAction, Adventure, Sci-Fi</td>\n",
       "      <td>114 min</td>\n",
       "      <td>7.3</td>\n",
       "      <td>66</td>\n",
       "      <td>34919</td>\n",
       "    </tr>\n",
       "  </tbody>\n",
       "</table>\n",
       "</div>"
      ],
      "text/plain": [
       "                               movie    year rating  \\\n",
       "0                           Bird Box  (2018)      R   \n",
       "1                            Aquaman  (2018)  PG-13   \n",
       "2                              Glass  (2019)  PG-13   \n",
       "3  Spider-Man: Into the Spider-Verse  (2018)     PG   \n",
       "4                          Bumblebee  (2018)  PG-13   \n",
       "\n",
       "                                        genre runtime_min  imdb  metascore  \\\n",
       "0         \\nDrama, Horror, Sci-Fi                 124 min   6.7         51   \n",
       "1    \\nAction, Adventure, Fantasy                 143 min   7.5         55   \n",
       "2        \\nDrama, Mystery, Sci-Fi                 129 min   7.4         42   \n",
       "3  \\nAnimation, Action, Adventure                 117 min   8.7         87   \n",
       "4     \\nAction, Adventure, Sci-Fi                 114 min   7.3         66   \n",
       "\n",
       "    votes  \n",
       "0  151586  \n",
       "1  131703  \n",
       "2    7019  \n",
       "3   79794  \n",
       "4   34919  "
      ]
     },
     "execution_count": 31,
     "metadata": {},
     "output_type": "execute_result"
    }
   ],
   "source": [
    "test_df = pd.DataFrame({'movie': titles,\n",
    "                       'year': years,\n",
    "                       'rating': ratings,\n",
    "                       'genre': genres,\n",
    "                       'runtime_min': runtimes,\n",
    "                       'imdb': imdb_ratings,\n",
    "                       'metascore': metascores,\n",
    "                       'votes': votes})\n",
    "print(test_df.info())\n",
    "test_df.head()"
   ]
  },
  {
   "cell_type": "code",
   "execution_count": 32,
   "metadata": {},
   "outputs": [],
   "source": [
    "test_df.loc[:, 'year'] = test_df['year'].str[-5:-1].astype(int)"
   ]
  },
  {
   "cell_type": "code",
   "execution_count": 33,
   "metadata": {},
   "outputs": [
    {
     "data": {
      "text/html": [
       "<div>\n",
       "<style scoped>\n",
       "    .dataframe tbody tr th:only-of-type {\n",
       "        vertical-align: middle;\n",
       "    }\n",
       "\n",
       "    .dataframe tbody tr th {\n",
       "        vertical-align: top;\n",
       "    }\n",
       "\n",
       "    .dataframe thead th {\n",
       "        text-align: right;\n",
       "    }\n",
       "</style>\n",
       "<table border=\"1\" class=\"dataframe\">\n",
       "  <thead>\n",
       "    <tr style=\"text-align: right;\">\n",
       "      <th></th>\n",
       "      <th>imdb</th>\n",
       "      <th>metascore</th>\n",
       "    </tr>\n",
       "  </thead>\n",
       "  <tbody>\n",
       "    <tr>\n",
       "      <th>min</th>\n",
       "      <td>5.0</td>\n",
       "      <td>18.0</td>\n",
       "    </tr>\n",
       "    <tr>\n",
       "      <th>max</th>\n",
       "      <td>8.8</td>\n",
       "      <td>90.0</td>\n",
       "    </tr>\n",
       "  </tbody>\n",
       "</table>\n",
       "</div>"
      ],
      "text/plain": [
       "     imdb  metascore\n",
       "min   5.0       18.0\n",
       "max   8.8       90.0"
      ]
     },
     "execution_count": 33,
     "metadata": {},
     "output_type": "execute_result"
    }
   ],
   "source": [
    "#there are no crazy looking outliers, so we are good here\n",
    "test_df.describe().loc[['min', 'max'], ['imdb', 'metascore']]"
   ]
  },
  {
   "cell_type": "code",
   "execution_count": 35,
   "metadata": {},
   "outputs": [
    {
     "data": {
      "text/html": [
       "<div>\n",
       "<style scoped>\n",
       "    .dataframe tbody tr th:only-of-type {\n",
       "        vertical-align: middle;\n",
       "    }\n",
       "\n",
       "    .dataframe tbody tr th {\n",
       "        vertical-align: top;\n",
       "    }\n",
       "\n",
       "    .dataframe thead th {\n",
       "        text-align: right;\n",
       "    }\n",
       "</style>\n",
       "<table border=\"1\" class=\"dataframe\">\n",
       "  <thead>\n",
       "    <tr style=\"text-align: right;\">\n",
       "      <th></th>\n",
       "      <th>movie</th>\n",
       "      <th>year</th>\n",
       "      <th>rating</th>\n",
       "      <th>genre</th>\n",
       "      <th>runtime_min</th>\n",
       "      <th>imdb</th>\n",
       "      <th>metascore</th>\n",
       "      <th>votes</th>\n",
       "      <th>n_imdb</th>\n",
       "    </tr>\n",
       "  </thead>\n",
       "  <tbody>\n",
       "    <tr>\n",
       "      <th>0</th>\n",
       "      <td>Bird Box</td>\n",
       "      <td>2018</td>\n",
       "      <td>R</td>\n",
       "      <td>\\nDrama, Horror, Sci-Fi</td>\n",
       "      <td>124 min</td>\n",
       "      <td>6.7</td>\n",
       "      <td>51</td>\n",
       "      <td>151586</td>\n",
       "      <td>67.0</td>\n",
       "    </tr>\n",
       "    <tr>\n",
       "      <th>1</th>\n",
       "      <td>Aquaman</td>\n",
       "      <td>2018</td>\n",
       "      <td>PG-13</td>\n",
       "      <td>\\nAction, Adventure, Fantasy</td>\n",
       "      <td>143 min</td>\n",
       "      <td>7.5</td>\n",
       "      <td>55</td>\n",
       "      <td>131703</td>\n",
       "      <td>75.0</td>\n",
       "    </tr>\n",
       "    <tr>\n",
       "      <th>2</th>\n",
       "      <td>Glass</td>\n",
       "      <td>2019</td>\n",
       "      <td>PG-13</td>\n",
       "      <td>\\nDrama, Mystery, Sci-Fi</td>\n",
       "      <td>129 min</td>\n",
       "      <td>7.4</td>\n",
       "      <td>42</td>\n",
       "      <td>7019</td>\n",
       "      <td>74.0</td>\n",
       "    </tr>\n",
       "  </tbody>\n",
       "</table>\n",
       "</div>"
      ],
      "text/plain": [
       "      movie  year rating                                     genre  \\\n",
       "0  Bird Box  2018      R       \\nDrama, Horror, Sci-Fi               \n",
       "1   Aquaman  2018  PG-13  \\nAction, Adventure, Fantasy               \n",
       "2     Glass  2019  PG-13      \\nDrama, Mystery, Sci-Fi               \n",
       "\n",
       "  runtime_min  imdb  metascore   votes  n_imdb  \n",
       "0     124 min   6.7         51  151586    67.0  \n",
       "1     143 min   7.5         55  131703    75.0  \n",
       "2     129 min   7.4         42    7019    74.0  "
      ]
     },
     "execution_count": 35,
     "metadata": {},
     "output_type": "execute_result"
    }
   ],
   "source": [
    "#get imdb rating into the same scale as metascore to be able to compare them\n",
    "test_df['n_imdb'] = test_df['imdb'] * 10\n",
    "test_df.head(3)"
   ]
  },
  {
   "cell_type": "code",
   "execution_count": 36,
   "metadata": {},
   "outputs": [],
   "source": [
    "#remove \" min\" from the end of the runtime variable and make them integers\n",
    "test_df['runtime_min'] = test_df['runtime_min'].apply(lambda x: x.replace(\" min\", \"\")).apply(lambda x: int(x))"
   ]
  },
  {
   "cell_type": "code",
   "execution_count": 37,
   "metadata": {},
   "outputs": [],
   "source": [
    "test_df['genre'] = test_df['genre'].apply(lambda x: x.replace(\"\\n\", \"\"))"
   ]
  },
  {
   "cell_type": "code",
   "execution_count": 38,
   "metadata": {},
   "outputs": [
    {
     "name": "stdout",
     "output_type": "stream",
     "text": [
      "<class 'pandas.core.frame.DataFrame'>\n",
      "RangeIndex: 45 entries, 0 to 44\n",
      "Data columns (total 9 columns):\n",
      "movie          45 non-null object\n",
      "year           45 non-null int32\n",
      "rating         45 non-null object\n",
      "genre          45 non-null object\n",
      "runtime_min    45 non-null int64\n",
      "imdb           45 non-null float64\n",
      "metascore      45 non-null int64\n",
      "votes          45 non-null int64\n",
      "n_imdb         45 non-null int64\n",
      "dtypes: float64(1), int32(1), int64(4), object(3)\n",
      "memory usage: 2.5+ KB\n"
     ]
    }
   ],
   "source": [
    "test_df['n_imdb'] = test_df['n_imdb'].apply(lambda x: int(x))\n",
    "test_df.info()"
   ]
  },
  {
   "cell_type": "code",
   "execution_count": 39,
   "metadata": {},
   "outputs": [
    {
     "data": {
      "text/html": [
       "<div>\n",
       "<style scoped>\n",
       "    .dataframe tbody tr th:only-of-type {\n",
       "        vertical-align: middle;\n",
       "    }\n",
       "\n",
       "    .dataframe tbody tr th {\n",
       "        vertical-align: top;\n",
       "    }\n",
       "\n",
       "    .dataframe thead th {\n",
       "        text-align: right;\n",
       "    }\n",
       "</style>\n",
       "<table border=\"1\" class=\"dataframe\">\n",
       "  <thead>\n",
       "    <tr style=\"text-align: right;\">\n",
       "      <th></th>\n",
       "      <th>movie</th>\n",
       "      <th>year</th>\n",
       "      <th>rating</th>\n",
       "      <th>genre</th>\n",
       "      <th>runtime_min</th>\n",
       "      <th>imdb</th>\n",
       "      <th>metascore</th>\n",
       "      <th>votes</th>\n",
       "      <th>n_imdb</th>\n",
       "    </tr>\n",
       "  </thead>\n",
       "  <tbody>\n",
       "    <tr>\n",
       "      <th>0</th>\n",
       "      <td>Bird Box</td>\n",
       "      <td>2018</td>\n",
       "      <td>R</td>\n",
       "      <td>Drama, Horror, Sci-Fi</td>\n",
       "      <td>124</td>\n",
       "      <td>6.7</td>\n",
       "      <td>51</td>\n",
       "      <td>151586</td>\n",
       "      <td>67</td>\n",
       "    </tr>\n",
       "    <tr>\n",
       "      <th>1</th>\n",
       "      <td>Aquaman</td>\n",
       "      <td>2018</td>\n",
       "      <td>PG-13</td>\n",
       "      <td>Action, Adventure, Fantasy</td>\n",
       "      <td>143</td>\n",
       "      <td>7.5</td>\n",
       "      <td>55</td>\n",
       "      <td>131703</td>\n",
       "      <td>75</td>\n",
       "    </tr>\n",
       "    <tr>\n",
       "      <th>2</th>\n",
       "      <td>Glass</td>\n",
       "      <td>2019</td>\n",
       "      <td>PG-13</td>\n",
       "      <td>Drama, Mystery, Sci-Fi</td>\n",
       "      <td>129</td>\n",
       "      <td>7.4</td>\n",
       "      <td>42</td>\n",
       "      <td>7019</td>\n",
       "      <td>74</td>\n",
       "    </tr>\n",
       "    <tr>\n",
       "      <th>3</th>\n",
       "      <td>Spider-Man: Into the Spider-Verse</td>\n",
       "      <td>2018</td>\n",
       "      <td>PG</td>\n",
       "      <td>Animation, Action, Adventure</td>\n",
       "      <td>117</td>\n",
       "      <td>8.7</td>\n",
       "      <td>87</td>\n",
       "      <td>79794</td>\n",
       "      <td>87</td>\n",
       "    </tr>\n",
       "    <tr>\n",
       "      <th>4</th>\n",
       "      <td>Bumblebee</td>\n",
       "      <td>2018</td>\n",
       "      <td>PG-13</td>\n",
       "      <td>Action, Adventure, Sci-Fi</td>\n",
       "      <td>114</td>\n",
       "      <td>7.3</td>\n",
       "      <td>66</td>\n",
       "      <td>34919</td>\n",
       "      <td>73</td>\n",
       "    </tr>\n",
       "  </tbody>\n",
       "</table>\n",
       "</div>"
      ],
      "text/plain": [
       "                               movie  year rating  \\\n",
       "0                           Bird Box  2018      R   \n",
       "1                            Aquaman  2018  PG-13   \n",
       "2                              Glass  2019  PG-13   \n",
       "3  Spider-Man: Into the Spider-Verse  2018     PG   \n",
       "4                          Bumblebee  2018  PG-13   \n",
       "\n",
       "                                      genre  runtime_min  imdb  metascore  \\\n",
       "0         Drama, Horror, Sci-Fi                      124   6.7         51   \n",
       "1    Action, Adventure, Fantasy                      143   7.5         55   \n",
       "2        Drama, Mystery, Sci-Fi                      129   7.4         42   \n",
       "3  Animation, Action, Adventure                      117   8.7         87   \n",
       "4     Action, Adventure, Sci-Fi                      114   7.3         66   \n",
       "\n",
       "    votes  n_imdb  \n",
       "0  151586      67  \n",
       "1  131703      75  \n",
       "2    7019      74  \n",
       "3   79794      87  \n",
       "4   34919      73  "
      ]
     },
     "execution_count": 39,
     "metadata": {},
     "output_type": "execute_result"
    }
   ],
   "source": [
    "test_df.head()"
   ]
  },
  {
   "cell_type": "code",
   "execution_count": 40,
   "metadata": {},
   "outputs": [],
   "source": [
    "test_df['genre'] = test_df['genre'].apply(lambda x: x.rstrip())"
   ]
  },
  {
   "cell_type": "code",
   "execution_count": 42,
   "metadata": {},
   "outputs": [
    {
     "data": {
      "text/html": [
       "<div>\n",
       "<style scoped>\n",
       "    .dataframe tbody tr th:only-of-type {\n",
       "        vertical-align: middle;\n",
       "    }\n",
       "\n",
       "    .dataframe tbody tr th {\n",
       "        vertical-align: top;\n",
       "    }\n",
       "\n",
       "    .dataframe thead th {\n",
       "        text-align: right;\n",
       "    }\n",
       "</style>\n",
       "<table border=\"1\" class=\"dataframe\">\n",
       "  <thead>\n",
       "    <tr style=\"text-align: right;\">\n",
       "      <th></th>\n",
       "      <th>movie</th>\n",
       "      <th>year</th>\n",
       "      <th>rating</th>\n",
       "      <th>genre</th>\n",
       "      <th>runtime_min</th>\n",
       "      <th>imdb</th>\n",
       "      <th>metascore</th>\n",
       "      <th>votes</th>\n",
       "      <th>n_imdb</th>\n",
       "    </tr>\n",
       "  </thead>\n",
       "  <tbody>\n",
       "    <tr>\n",
       "      <th>0</th>\n",
       "      <td>Bird Box</td>\n",
       "      <td>2018</td>\n",
       "      <td>R</td>\n",
       "      <td>Drama, Horror, Sci-Fi</td>\n",
       "      <td>124</td>\n",
       "      <td>6.7</td>\n",
       "      <td>51</td>\n",
       "      <td>151586</td>\n",
       "      <td>67</td>\n",
       "    </tr>\n",
       "    <tr>\n",
       "      <th>1</th>\n",
       "      <td>Aquaman</td>\n",
       "      <td>2018</td>\n",
       "      <td>PG-13</td>\n",
       "      <td>Action, Adventure, Fantasy</td>\n",
       "      <td>143</td>\n",
       "      <td>7.5</td>\n",
       "      <td>55</td>\n",
       "      <td>131703</td>\n",
       "      <td>75</td>\n",
       "    </tr>\n",
       "    <tr>\n",
       "      <th>2</th>\n",
       "      <td>Glass</td>\n",
       "      <td>2019</td>\n",
       "      <td>PG-13</td>\n",
       "      <td>Drama, Mystery, Sci-Fi</td>\n",
       "      <td>129</td>\n",
       "      <td>7.4</td>\n",
       "      <td>42</td>\n",
       "      <td>7019</td>\n",
       "      <td>74</td>\n",
       "    </tr>\n",
       "    <tr>\n",
       "      <th>3</th>\n",
       "      <td>Spider-Man: Into the Spider-Verse</td>\n",
       "      <td>2018</td>\n",
       "      <td>PG</td>\n",
       "      <td>Animation, Action, Adventure</td>\n",
       "      <td>117</td>\n",
       "      <td>8.7</td>\n",
       "      <td>87</td>\n",
       "      <td>79794</td>\n",
       "      <td>87</td>\n",
       "    </tr>\n",
       "    <tr>\n",
       "      <th>4</th>\n",
       "      <td>Bumblebee</td>\n",
       "      <td>2018</td>\n",
       "      <td>PG-13</td>\n",
       "      <td>Action, Adventure, Sci-Fi</td>\n",
       "      <td>114</td>\n",
       "      <td>7.3</td>\n",
       "      <td>66</td>\n",
       "      <td>34919</td>\n",
       "      <td>73</td>\n",
       "    </tr>\n",
       "  </tbody>\n",
       "</table>\n",
       "</div>"
      ],
      "text/plain": [
       "                               movie  year rating  \\\n",
       "0                           Bird Box  2018      R   \n",
       "1                            Aquaman  2018  PG-13   \n",
       "2                              Glass  2019  PG-13   \n",
       "3  Spider-Man: Into the Spider-Verse  2018     PG   \n",
       "4                          Bumblebee  2018  PG-13   \n",
       "\n",
       "                          genre  runtime_min  imdb  metascore   votes  n_imdb  \n",
       "0         Drama, Horror, Sci-Fi          124   6.7         51  151586      67  \n",
       "1    Action, Adventure, Fantasy          143   7.5         55  131703      75  \n",
       "2        Drama, Mystery, Sci-Fi          129   7.4         42    7019      74  \n",
       "3  Animation, Action, Adventure          117   8.7         87   79794      87  \n",
       "4     Action, Adventure, Sci-Fi          114   7.3         66   34919      73  "
      ]
     },
     "execution_count": 42,
     "metadata": {},
     "output_type": "execute_result"
    }
   ],
   "source": [
    "#don't need the non-standardized imdb column\n",
    "test_df.drop(columns='imdb')\n",
    "test_df.head()"
   ]
  },
  {
   "cell_type": "code",
   "execution_count": 47,
   "metadata": {},
   "outputs": [],
   "source": [
    "from sqlalchemy import create_engine\n",
    "import sqlite3\n",
    "engine = create_engine('sqlite://', echo=False)"
   ]
  },
  {
   "cell_type": "code",
   "execution_count": 48,
   "metadata": {},
   "outputs": [],
   "source": [
    "test_df.to_sql('movies', con=engine)"
   ]
  },
  {
   "cell_type": "code",
   "execution_count": 49,
   "metadata": {},
   "outputs": [
    {
     "data": {
      "text/plain": [
       "[(0, 'Bird Box', 2018, 'R', 'Drama, Horror, Sci-Fi', 124, 6.7, 51, 151586, 67),\n",
       " (1, 'Aquaman', 2018, 'PG-13', 'Action, Adventure, Fantasy', 143, 7.5, 55, 131703, 75),\n",
       " (2, 'Glass', 2019, 'PG-13', 'Drama, Mystery, Sci-Fi', 129, 7.4, 42, 7019, 74),\n",
       " (3, 'Spider-Man: Into the Spider-Verse', 2018, 'PG', 'Animation, Action, Adventure', 117, 8.7, 87, 79794, 87),\n",
       " (4, 'Bumblebee', 2018, 'PG-13', 'Action, Adventure, Sci-Fi', 114, 7.3, 66, 34919, 73),\n",
       " (5, 'Escape Room', 2019, 'PG-13', 'Drama, Mystery, Sci-Fi', 99, 6.4, 49, 4347, 64),\n",
       " (6, 'Replicas', 2018, 'PG-13', 'Crime, Mystery, Sci-Fi', 107, 5.5, 18, 5940, 55),\n",
       " (7, 'Avengers: Infinity War', 2018, 'PG-13', 'Action, Adventure, Fantasy', 149, 8.5, 68, 568940, 85),\n",
       " (8, 'Venom', 2018, 'PG-13', 'Action, Sci-Fi', 112, 6.8, 35, 213996, 68),\n",
       " (9, 'A Quiet Place', 2018, 'PG-13', 'Drama, Horror, Mystery', 90, 7.6, 82, 259774, 76),\n",
       " (10, 'Annihilation', 2018, 'R', 'Adventure, Drama, Horror', 115, 6.9, 79, 202045, 69),\n",
       " (11, 'Solo: A Star Wars Story', 2018, 'PG-13', 'Action, Adventure, Fantasy', 135, 7.0, 62, 193575, 70),\n",
       " (12, 'Unbreakable', 2000, 'PG-13', 'Drama, Mystery, Sci-Fi', 106, 7.3, 62, 319583, 73),\n",
       " (13, 'Black Panther', 2018, 'PG-13', 'Action, Adventure, Sci-Fi', 134, 7.4, 88, 444470, 74),\n",
       " (14, 'Mortal Engines', 2018, 'PG-13', 'Action, Adventure, Fantasy', 128, 6.4, 44, 21057, 64),\n",
       " (15, 'The Predator', 2018, 'R', 'Action, Adventure, Horror', 107, 5.4, 48, 77257, 54),\n",
       " (16, 'Ready Player One', 2018, 'PG-13', 'Action, Adventure, Sci-Fi', 140, 7.5, 64, 267189, 75),\n",
       " (17, 'Watchmen', 2009, 'R', 'Action, Drama, Mystery', 162, 7.6, 56, 445681, 76),\n",
       " (18, 'Deadpool 2', 2018, 'R', 'Action, Adventure, Comedy', 119, 7.8, 66, 335429, 78),\n",
       " (19, 'Justice League', 2017, 'PG-13', 'Action, Adventure, Fantasy', 120, 6.5, 45, 308395, 65),\n",
       " (20, 'Incredibles 2', 2018, 'PG', 'Animation, Action, Adventure', 118, 7.8, 80, 165421, 78),\n",
       " (21, 'Upgrade', 2018, 'R', 'Action, Sci-Fi, Thriller', 100, 7.6, 67, 82882, 76),\n",
       " (22, 'The Meg', 2018, 'PG-13', 'Action, Horror, Sci-Fi', 113, 5.7, 46, 92706, 57),\n",
       " (23, 'Thor: Ragnarok', 2017, 'PG-13', 'Action, Adventure, Comedy', 130, 7.9, 74, 423782, 79),\n",
       " (24, 'Ant-Man and the Wasp', 2018, 'PG-13', 'Action, Adventure, Comedy', 118, 7.1, 70, 183230, 71),\n",
       " (25, 'The House with a Clock in Its Walls', 2018, 'PG', 'Comedy, Family, Fantasy', 105, 6.1, 57, 24396, 61),\n",
       " (26, 'The Lobster', 2015, 'R', 'Comedy, Drama, Romance', 119, 7.1, 82, 169933, 71),\n",
       " (27, 'Jurassic World: Fallen Kingdom', 2018, 'PG-13', 'Action, Adventure, Sci-Fi', 128, 6.2, 51, 192062, 62),\n",
       " (28, 'Spider-Man: Homecoming', 2017, 'PG-13', 'Action, Adventure, Sci-Fi', 133, 7.5, 73, 384810, 75),\n",
       " (29, 'Interstellar', 2014, 'PG-13', 'Adventure, Drama, Sci-Fi', 169, 8.6, 74, 1250057, 86),\n",
       " (30, 'Inception', 2010, 'PG-13', 'Action, Adventure, Sci-Fi', 148, 8.8, 74, 1788681, 88),\n",
       " (31, 'Guardians of the Galaxy', 2014, 'PG-13', 'Action, Adventure, Comedy', 121, 8.1, 76, 902210, 81),\n",
       " (32, 'Star Wars: Episode VIII - The Last Jedi', 2017, 'PG-13', 'Action, Adventure, Fantasy', 152, 7.2, 85, 439671, 72),\n",
       " (33, 'Blade Runner 2049', 2017, 'R', 'Drama, Mystery, Sci-Fi', 164, 8.0, 81, 357242, 80),\n",
       " (34, 'Overlord', 2018, 'R', 'Action, Adventure, Horror', 110, 7.1, 60, 18338, 71),\n",
       " (35, 'Avengers: Age of Ultron', 2015, 'PG-13', 'Action, Adventure, Sci-Fi', 141, 7.4, 66, 624838, 74),\n",
       " (36, 'Isle of Dogs', 2018, 'PG-13', 'Animation, Adventure, Comedy', 101, 7.9, 82, 90368, 79),\n",
       " (37, 'Guardians of the Galaxy Vol. 2', 2017, 'PG-13', 'Action, Adventure, Comedy', 136, 7.7, 67, 438363, 77),\n",
       " (38, 'Suicide Squad', 2016, 'PG-13', 'Action, Adventure, Fantasy', 123, 6.1, 40, 511910, 61),\n",
       " (39, 'Wonder Woman', 2017, 'PG-13', 'Action, Adventure, Fantasy', 141, 7.5, 76, 460909, 75),\n",
       " (40, 'Mad Max: Fury Road', 2015, 'R', 'Action, Adventure, Sci-Fi', 120, 8.1, 90, 756252, 81),\n",
       " (41, 'Sorry to Bother You', 2018, 'R', 'Comedy, Fantasy, Sci-Fi', 111, 7.0, 80, 30468, 70),\n",
       " (42, 'Rampage', 2018, 'PG-13', 'Action, Adventure, Sci-Fi', 107, 6.1, 45, 102031, 61),\n",
       " (43, 'The Avengers', 2012, 'PG-13', 'Action, Adventure, Sci-Fi', 143, 8.1, 69, 1144512, 81),\n",
       " (44, 'How It Ends', 2018, 'TV-MA', 'Action, Adventure, Drama', 113, 5.0, 36, 32565, 50)]"
      ]
     },
     "execution_count": 49,
     "metadata": {},
     "output_type": "execute_result"
    }
   ],
   "source": [
    "engine.execute(\"SELECT * FROM movies\").fetchall()"
   ]
  }
 ],
 "metadata": {
  "kernelspec": {
   "display_name": "Python 3",
   "language": "python",
   "name": "python3"
  },
  "language_info": {
   "codemirror_mode": {
    "name": "ipython",
    "version": 3
   },
   "file_extension": ".py",
   "mimetype": "text/x-python",
   "name": "python",
   "nbconvert_exporter": "python",
   "pygments_lexer": "ipython3",
   "version": "3.7.1"
  }
 },
 "nbformat": 4,
 "nbformat_minor": 2
}
